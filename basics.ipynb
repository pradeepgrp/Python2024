{
 "cells": [
  {
   "cell_type": "code",
   "execution_count": 1,
   "metadata": {},
   "outputs": [
    {
     "name": "stdout",
     "output_type": "stream",
     "text": [
      "I'm going on a run => \t TODAY \n",
      "at 8AM\n"
     ]
    },
    {
     "data": {
      "text/plain": [
       "4"
      ]
     },
     "execution_count": 1,
     "metadata": {},
     "output_type": "execute_result"
    }
   ],
   "source": [
    "#Strings\n",
    "\n",
    "print('I\\'m going on a run => \\t TODAY \\nat 8AM') #escape character\n",
    "len ('I am')"
   ]
  },
  {
   "cell_type": "code",
   "execution_count": 2,
   "metadata": {},
   "outputs": [
    {
     "name": "stdout",
     "output_type": "stream",
     "text": [
      "r\n",
      "r\n"
     ]
    }
   ],
   "source": [
    "my_string = \"Hello world\"\n",
    "print(my_string[8])\n",
    "print(my_string[-3])  #same output as above"
   ]
  },
  {
   "cell_type": "code",
   "execution_count": 3,
   "metadata": {},
   "outputs": [
    {
     "name": "stdout",
     "output_type": "stream",
     "text": [
      "cdefgh\n",
      "abc\n",
      "def\n",
      "aceg\n",
      "hgfedcba\n"
     ]
    }
   ],
   "source": [
    "#string slicing\n",
    "mystring = 'abcdefgh'\n",
    "print(mystring[2:]) #start\n",
    "print(mystring[:3]) #stop\n",
    "print(mystring[3:6])\n",
    "print(mystring[::2]) #step size\n",
    "print(mystring[::-1]) # reverse string"
   ]
  },
  {
   "cell_type": "code",
   "execution_count": 4,
   "metadata": {},
   "outputs": [
    {
     "name": "stdout",
     "output_type": "stream",
     "text": [
      "HELLO WORLD\n",
      "Hello World\n",
      "hello world\n",
      "['hello', 'world']\n"
     ]
    }
   ],
   "source": [
    "#string properties & methods - strings are immutable (can't change)\n",
    "x = 'hello world'\n",
    "print(x.upper())\n",
    "print(x.title())\n",
    "print(x)\n",
    "print(x.split()) #splits string into list on space by default"
   ]
  },
  {
   "cell_type": "code",
   "execution_count": 5,
   "metadata": {},
   "outputs": [
    {
     "name": "stdout",
     "output_type": "stream",
     "text": [
      "This is a string INSERT\n",
      "The fox brown quick\n",
      "The quick brown fox\n",
      "The quick brown fox\n"
     ]
    }
   ],
   "source": [
    "#print formatting with strings => .format() method and f-strings\n",
    "# .format () method => 'string here {} another string {}'.format('str1',str2')\n",
    "print('This is a string {}'.format('INSERT'))\n",
    "print('The {} {} {}'.format('fox','brown','quick'))\n",
    "print('The {2} {1} {0}'.format('fox','brown','quick')) #index positions specified\n",
    "print('The {q} {b} {f}'.format(f='fox',b='brown',q='quick')) #variables instead of index"
   ]
  },
  {
   "cell_type": "code",
   "execution_count": 6,
   "metadata": {},
   "outputs": [
    {
     "name": "stdout",
     "output_type": "stream",
     "text": [
      "3.142857142857143\n",
      "The value of Pi is 3.143\n",
      "The value of Pi is 3.143\n",
      "sam is 10 years old\n"
     ]
    }
   ],
   "source": [
    "#float formatting in print\n",
    "pi = 22/7\n",
    "print(pi)\n",
    "print(\"The value of Pi is {p:1.3f}\".format(p=pi))  #specify the decimal places (3f)\n",
    "print(f'The value of Pi is {pi:1.3f}') #fstring method Python 3.6 and later\n",
    "name = 'sam'\n",
    "age = 10\n",
    "print(f'{name} is {age} years old') #fstring method"
   ]
  },
  {
   "cell_type": "code",
   "execution_count": 7,
   "metadata": {},
   "outputs": [
    {
     "name": "stdout",
     "output_type": "stream",
     "text": [
      "['string', 100, 11.5]\n",
      "['new string', 100, 11.5]\n"
     ]
    }
   ],
   "source": [
    "#Lists in Python => lists are ordered sequences\n",
    "my_list = ['string',100,23/2]\n",
    "print(my_list)\n",
    "len(my_list)\n",
    "my_list[1:]  #indexing, slicing words similar to strings\n",
    "\n",
    "#unlike strings, lists are mutable, elements in the list can be updated (changed, added and deleted)\n",
    "my_list[0] = 'new string'\n",
    "print(my_list)"
   ]
  },
  {
   "cell_type": "code",
   "execution_count": 8,
   "metadata": {},
   "outputs": [
    {
     "name": "stdout",
     "output_type": "stream",
     "text": [
      "['new string', 100, 11.5, 'one more']\n",
      "[4, 1, 8, 3]\n",
      "[1, 3, 4, 8]\n",
      "[8, 4, 3, 1]\n"
     ]
    }
   ],
   "source": [
    "my_list.append('one more') #appends in place, meaning changes the list permanently, append adds to the end of list\n",
    "print(my_list)\n",
    "\n",
    "my_list.pop()  #removes the last element by default and returns that value\n",
    "\n",
    "num_list = [4,1,8,3]\n",
    "print(num_list)\n",
    "num_list.sort()  #sorting is in place (permanent)\n",
    "print(num_list)\n",
    "\n",
    "num_list.reverse() #reverse is also in place\n",
    "print(num_list)"
   ]
  },
  {
   "cell_type": "code",
   "execution_count": 9,
   "metadata": {},
   "outputs": [
    {
     "data": {
      "text/plain": [
       "2"
      ]
     },
     "execution_count": 9,
     "metadata": {},
     "output_type": "execute_result"
    }
   ],
   "source": [
    "#grab 2 from nested list\n",
    "lst = [1,1,[1,2]]\n",
    "lst[2][1]"
   ]
  },
  {
   "cell_type": "code",
   "execution_count": 10,
   "metadata": {},
   "outputs": [
    {
     "name": "stdout",
     "output_type": "stream",
     "text": [
      "Value2\n",
      "Value2\n",
      "2.99\n",
      "5.8\n",
      "3\n"
     ]
    },
    {
     "data": {
      "text/plain": [
       "100"
      ]
     },
     "execution_count": 10,
     "metadata": {},
     "output_type": "execute_result"
    }
   ],
   "source": [
    "#Dictionaries - unordered mappings for storing objects, using key-value pairs, objects retrieved by key name\n",
    "#in lists objects are retrieved using object location\n",
    "\n",
    "my_dict = {'k1':'Value1','k2':'Value2'}\n",
    "res = my_dict['k2']\n",
    "print(res)\n",
    "\n",
    "result = my_dict.get(\"k2\") #dictionary.get(key)\n",
    "print(result)\n",
    "\n",
    "price_lookup = {'apple':2.99, 'oranges':1.99,'milk':5.80}\n",
    "print(price_lookup.get('apple'))\n",
    "print(price_lookup['milk'])\n",
    "\n",
    "d = {'k1':123, 'k2':[1,2,3], 'k3':{'insidekey':100}}\n",
    "print(d.get('k2')[2])  # to grab 3\n",
    "d.get('k3').get('insidekey') #same as d['k3]['insidekey]"
   ]
  },
  {
   "cell_type": "code",
   "execution_count": 11,
   "metadata": {},
   "outputs": [
    {
     "name": "stdout",
     "output_type": "stream",
     "text": [
      "{'k1': 123, 'k2': [1, 2, 3], 'k3': {'insidekey': 100}, 'k4': 'new value'}\n"
     ]
    }
   ],
   "source": [
    "#adding new values to a dictionary\n",
    "d['k4']='new value'\n",
    "print(d)"
   ]
  },
  {
   "cell_type": "code",
   "execution_count": 12,
   "metadata": {},
   "outputs": [
    {
     "name": "stdout",
     "output_type": "stream",
     "text": [
      "dict_keys(['k1', 'k2', 'k3', 'k4'])\n",
      "dict_values([123, [1, 2, 3], {'insidekey': 100}, 'new value'])\n",
      "dict_items([('k1', 123), ('k2', [1, 2, 3]), ('k3', {'insidekey': 100}), ('k4', 'new value')])\n"
     ]
    }
   ],
   "source": [
    "print(d.keys()) #list of keys\n",
    "print(d.values()) #list of values\n",
    "print(d.items()) #list of tuples"
   ]
  },
  {
   "cell_type": "code",
   "execution_count": 13,
   "metadata": {},
   "outputs": [
    {
     "name": "stdout",
     "output_type": "stream",
     "text": [
      "CD\n"
     ]
    }
   ],
   "source": [
    "#dictionary, list & string\n",
    "dct = {'k1':['ab','bc','cd']}\n",
    "out = dct.get('k1')[2].upper()\n",
    "print(out)"
   ]
  },
  {
   "cell_type": "code",
   "execution_count": 23,
   "metadata": {},
   "outputs": [
    {
     "name": "stdout",
     "output_type": "stream",
     "text": [
      "length of this tuple is 4 & 2nd element is 2\n",
      "Count of element 2 in tuple 2 & index of element 3 is 3\n"
     ]
    }
   ],
   "source": [
    "#Tuples are similar to lists, but are immutable & use parentheses ()\n",
    "t = ('one',2,2,3)\n",
    "print(f'length of this tuple is {len(t)} & 2nd element is {t[1]}')\n",
    "#tuples has only 2 built-in methods .count & .index\n",
    "print(f'Count of element 2 in tuple {t.count(2)} & index of element 3 is {t.index(3)}')\n",
    "\n",
    "#tuples are used in place of lists when data integrity is essential as they are immutable "
   ]
  },
  {
   "cell_type": "code",
   "execution_count": 31,
   "metadata": {},
   "outputs": [
    {
     "name": "stdout",
     "output_type": "stream",
     "text": [
      "{1, 2}\n",
      "{1, 2, 3}\n",
      "{'i', 'M', 'p', 'I', 's'}\n"
     ]
    }
   ],
   "source": [
    "#sets - unordered collection of unique elements\n",
    "myset = set()\n",
    "myset.add(1)\n",
    "myset.add(2)\n",
    "print(myset)\n",
    "mylist = [1,1,1,2,3,3,3]\n",
    "print(set(mylist))\n",
    "print(set('MississippI'))"
   ]
  },
  {
   "cell_type": "code",
   "execution_count": 32,
   "metadata": {},
   "outputs": [
    {
     "data": {
      "text/plain": [
       "True"
      ]
     },
     "execution_count": 32,
     "metadata": {},
     "output_type": "execute_result"
    }
   ],
   "source": [
    "#Booleans - True or False - used for control flow logic\n",
    "1==1"
   ]
  },
  {
   "cell_type": "code",
   "execution_count": 41,
   "metadata": {},
   "outputs": [
    {
     "data": {
      "text/plain": [
       "'My 1,770 sell target was achieved yesterday as the price closed below the (H)4 MA50 as mentioned on my last statement. \\nNow Gold is showcasing its bullish momentum once as as it broke above the (H)4 MA50 following a rebound \\non the 1,760 Support (made off the October 18th low). \\n(D) is neutral once more (RSI # 53.972, MACD # 2.490, ADX # 28.694) and I am expecting this reversal \\nto target 1,810 and 1,820 in extension as a Higher High. \\nKeep in mind that the Fed Decision is playing a huge part in this and as it is a long-term macro, \\nmost likely this trend is here to stay as they plan on a more controlled taper strategy. \\nThe US10Y is on a bearish reversal (H&amp;S) which is bullish for Gold and basically the only sell pressure is coming from \\nthe (still) strong DXY. I expect the NFP tomorrow to be the catalyst for the USD\\'s trend.\\n\\n\\nThe Merevingian\\n2 hours ago\\n\\nIt\\'s a SHORT to 1783-1790 spot range, THEN it\\'s a buy at that level for 1865\\n\\n----------------\\n11/15 - George Gold\\n\\nGold has so far failed to break above the key 1,870 (on XAUUSD) pivot line of 2020 and is technically forming a top \\nwhich can be the Higher High on the (D) Bullish Megaphone that started after the September 29th low. \\n(H)1 is turning neutral (RSI # 56.083, MACD # 0.380, ADX # 17.799) which is a natural reaction on peak formations \\nand I personally expect (within a weekly horizon) a pull-back towards the (D) MA200 (around 1,800), \\nwhich should be turned into a Support if this one month bullish move is to be transfered on the long-term as well. \\nThen my target will be 1,910. Note that currently it is the DXY which keeps Gold that high, \\nas the US10Y, though bearish on the long-term, rebounded on its (D)MA200.\\n\\n\\nGeorge Gold\\n2021-11-18 14:42:04\\n\\nGold has so far failed to close a (D) candle above the 1876 Symmetrical Resistance but technically remains bullish (RSI # 66.354, MACD # 23.900, ADX # 45.046). \\nIn order however to extend this bullish trend, a (D) candle needs to be closed above the 1,875 pivot and if it does, \\nthe natural targets would be first 1,917 (Resistance 1 from the June 1st High) and if a (D) candle closes above it, \\nthen 1,938.50 (0.5 Fibonacci of the two Resistance levels: 1,960 and 1,917). \\nOn the other hand, if a (D) candle closes below the 1,843.50 short-term Support, I would expect a technical pull-back to its long-term Support, \\nthe 1D MA50 (blue trend-line). \\nLong-term though I remain bullish as within the next days the (D) chart will form a Golden Cross. \\nFundamentally today\\'s higher that expected Initial Jobless Claims should be bearish on the short-term\\n\\n----------------------\\n\\nThe Merevingian - 11/15\\nOk so take profit on short is 1838 spot. \\nI have limit buys sitting at 1825 spot with stops 1821.75 spot. Take profit 1850. \\nThis being the next trade after short. Then next week\\'s candle will take it below 1828 to 1805-1800 level, \\nso re shorting will happen next week\\n\\nNov 22, 2021 12:14PM ET\\n1793-1797 spot is the sweet spot for buys\\n\\nNov 22, 2021 11:14AM ET\\nPLACE LIMIT BUY @ 1796 SPOT. STOPS AT 1784 TARGET IS 1920\\n\\n--------------------------------\\nVisa@2022\\nBig Bangg\\n2021-11-19 01:29:49\\n\\n1800-1810 on the way first\\n\\n\\n---------------------------------------youâ€™ve got to learn how to let go and give your trade room to breathe-----------------------\\nGolden Cross:\\nThe golden cross occurs when a short-term moving average crosses over a major long-term moving average to the upside and is interpreted by analysts and traders as signaling a definitive upward turn in a market. \\nSome analysts define it as a crossover of the 100-day moving average by the 50-day moving average; others define it as the crossover of the 200-day average by the 50-day average.\\n\\nEMA vs SMA:\\nThe primary difference between an EMA and an SMA is the sensitivity each one shows to changes in the data used in its calculation. ... \\nMore specifically, the exponential moving average gives a higher weighting to recent prices, while the simple moving average assigns equal weighting to all values.\\n---------------------------------\\n10/14/2022\\nhttps://www.investing.com/members/contributors/201230545/comments\\n \\nRemember always be ready to cover the losses and trade short/medium-term break-outs of the trend. Set markers on correlating assets that can serve as an early warning. =>(Bond, USD etc.).\\n\"Don\\'t overcommit\", go for safe short-term profits in this environment, one bad trade can always be gained back another time but a liquidated account cannot.\\n\\nNaiive retail investors\\nCriteria for investing is Timing\\nparticipation is not for the faint heart\\n---------\\n5/23/2024\\nJohnny Sins\\nhttps://www.investing.com/members/219326005/comments\\n\\nhttps://www.investing.com/members/230999301/comments\\n\\nHiren Garasondia\\nhttps://www.investing.com/members/254101728/comments\\n\\nweesinglim pelandok\\nhttps://www.investing.com/members/258317097/comments\\n\\nJim Curry - preference is always to buy on drops back to the moving averages.\\nIRA futures limit - 555K 14 to 16K per contract\\nTrade a/c limit - 123K - 7 contract\\n\\n--G3\\n--E3'"
      ]
     },
     "execution_count": 41,
     "metadata": {},
     "output_type": "execute_result"
    }
   ],
   "source": [
    "#files - reading from a file\n",
    "with open('Investing Gold.txt') as invest_file:\n",
    "    contents = invest_file.read()\n",
    "    \n",
    "contents"
   ]
  },
  {
   "cell_type": "code",
   "execution_count": 70,
   "metadata": {},
   "outputs": [
    {
     "data": {
      "text/plain": [
       "'First Line'"
      ]
     },
     "execution_count": 70,
     "metadata": {},
     "output_type": "execute_result"
    }
   ],
   "source": [
    "#writing and overwriting files\n",
    "\n",
    "with open('from python.txt', mode='w') as w_file:  #w creates file or overwrites an existing file\n",
    "    w_file.write('First Line')\n",
    "    \n",
    "with open('from python.txt', mode='r') as r_file:  #r for ready only\n",
    "    contents = r_file.read()\n",
    "    \n",
    "contents"
   ]
  },
  {
   "cell_type": "code",
   "execution_count": 71,
   "metadata": {},
   "outputs": [
    {
     "name": "stdout",
     "output_type": "stream",
     "text": [
      "First LineSecond Line\n"
     ]
    }
   ],
   "source": [
    "with open('from python.txt', mode='a') as a_file:  #a for appending \n",
    "    a_file.write('Second Line')\n",
    "    \n",
    "with open('from python.txt', mode='r') as r_file:\n",
    "    print(r_file.read())\n",
    "    \n"
   ]
  },
  {
   "cell_type": "code",
   "execution_count": 88,
   "metadata": {},
   "outputs": [
    {
     "name": "stdout",
     "output_type": "stream",
     "text": [
      "Hello World\n"
     ]
    }
   ],
   "source": [
    "#basic file method\n",
    "x = open('test.txt','w')\n",
    "x.write('Hello World')\n",
    "x.close()\n",
    "\n",
    "y = open('test.txt', 'r')\n",
    "print(y.read())\n",
    "y.close()"
   ]
  },
  {
   "cell_type": "code",
   "execution_count": 92,
   "metadata": {},
   "outputs": [
    {
     "name": "stdout",
     "output_type": "stream",
     "text": [
      "True\n",
      "False\n"
     ]
    }
   ],
   "source": [
    "#comparison operators (==, !=, >, <, >=, <=) and logical operators (and, or, not)\n",
    "print(1<2 and 2<3)\n",
    "print(not (1==1))"
   ]
  },
  {
   "cell_type": "code",
   "execution_count": 95,
   "metadata": {},
   "outputs": [
    {
     "name": "stdout",
     "output_type": "stream",
     "text": [
      "I do not know much\n"
     ]
    }
   ],
   "source": [
    "#Control flow => if, elif, else\n",
    "loc = 'Game'\n",
    "\n",
    "if loc == 'Auto':\n",
    "    print(\"Cars are cool!\")\n",
    "elif loc == 'Bank':\n",
    "    print(\"Money is cool!\")\n",
    "elif loc == 'Store':\n",
    "    print('Welcome to the store!')\n",
    "else:\n",
    "    print('I do not know much')"
   ]
  },
  {
   "cell_type": "code",
   "execution_count": null,
   "metadata": {},
   "outputs": [],
   "source": [
    "# For loop\n"
   ]
  }
 ],
 "metadata": {
  "kernelspec": {
   "display_name": "Python 3",
   "language": "python",
   "name": "python3"
  },
  "language_info": {
   "codemirror_mode": {
    "name": "ipython",
    "version": 3
   },
   "file_extension": ".py",
   "mimetype": "text/x-python",
   "name": "python",
   "nbconvert_exporter": "python",
   "pygments_lexer": "ipython3",
   "version": "3.7.6"
  }
 },
 "nbformat": 4,
 "nbformat_minor": 2
}
