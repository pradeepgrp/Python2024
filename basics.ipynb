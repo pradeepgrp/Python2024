{
 "cells": [
  {
   "cell_type": "code",
   "execution_count": 4,
   "metadata": {},
   "outputs": [
    {
     "name": "stdout",
     "output_type": "stream",
     "text": [
      "I'm going on a run => \t TODAY \n",
      "at 8AM\n"
     ]
    },
    {
     "data": {
      "text/plain": [
       "4"
      ]
     },
     "execution_count": 4,
     "metadata": {},
     "output_type": "execute_result"
    }
   ],
   "source": [
    "#Strings\n",
    "\n",
    "print('I\\'m going on a run => \\t TODAY \\nat 8AM') #escape character\n",
    "len ('I am')"
   ]
  },
  {
   "cell_type": "code",
   "execution_count": 5,
   "metadata": {},
   "outputs": [
    {
     "name": "stdout",
     "output_type": "stream",
     "text": [
      "r\n",
      "r\n"
     ]
    }
   ],
   "source": [
    "my_string = \"Hello world\"\n",
    "print(my_string[8])\n",
    "print(my_string[-3])  #same output as above"
   ]
  },
  {
   "cell_type": "code",
   "execution_count": 6,
   "metadata": {},
   "outputs": [
    {
     "name": "stdout",
     "output_type": "stream",
     "text": [
      "cdefgh\n",
      "abc\n",
      "def\n",
      "aceg\n",
      "hgfedcba\n"
     ]
    }
   ],
   "source": [
    "#string slicing\n",
    "mystring = 'abcdefgh'\n",
    "print(mystring[2:]) #start\n",
    "print(mystring[:3]) #stop\n",
    "print(mystring[3:6])\n",
    "print(mystring[::2]) #step size\n",
    "print(mystring[::-1]) # reverse string"
   ]
  },
  {
   "cell_type": "code",
   "execution_count": 4,
   "metadata": {},
   "outputs": [
    {
     "name": "stdout",
     "output_type": "stream",
     "text": [
      "HELLO WORLD\n",
      "Hello World\n",
      "hello world\n",
      "['hello', 'world']\n"
     ]
    }
   ],
   "source": [
    "#string properties & methods - strings are immutable (can't change)\n",
    "x = 'hello world'\n",
    "print(x.upper())\n",
    "print(x.title())\n",
    "print(x)\n",
    "print(x.split()) #splits string into list on space by default"
   ]
  },
  {
   "cell_type": "code",
   "execution_count": 5,
   "metadata": {},
   "outputs": [
    {
     "name": "stdout",
     "output_type": "stream",
     "text": [
      "This is a string INSERT\n",
      "The fox brown quick\n",
      "The quick brown fox\n",
      "The quick brown fox\n"
     ]
    }
   ],
   "source": [
    "#print formatting with strings => .format() method and f-strings\n",
    "# .format () method => 'string here {} another string {}'.format('str1',str2')\n",
    "print('This is a string {}'.format('INSERT'))\n",
    "print('The {} {} {}'.format('fox','brown','quick'))\n",
    "print('The {2} {1} {0}'.format('fox','brown','quick')) #index positions specified\n",
    "print('The {q} {b} {f}'.format(f='fox',b='brown',q='quick')) #variables instead of index"
   ]
  },
  {
   "cell_type": "code",
   "execution_count": 7,
   "metadata": {},
   "outputs": [
    {
     "name": "stdout",
     "output_type": "stream",
     "text": [
      "3.142857142857143\n",
      "The value of Pi is 3.1429\n",
      "The value of Pi is 3.143\n",
      "sam is 10 years old\n"
     ]
    }
   ],
   "source": [
    "#float formatting in print\n",
    "pi = 22/7\n",
    "print(pi)\n",
    "print(\"The value of Pi is {p:1.4f}\".format(p=pi))  #specify the decimal places (3f)\n",
    "print(f'The value of Pi is {pi:1.3f}') #fstring method Python 3.6 and later\n",
    "name = 'sam'\n",
    "age = 10\n",
    "print(f'{name} is {age} years old') #fstring method"
   ]
  },
  {
   "cell_type": "code",
   "execution_count": 10,
   "metadata": {},
   "outputs": [
    {
     "name": "stdout",
     "output_type": "stream",
     "text": [
      "['string', 100, 11.5]\n",
      "['new string', 100, 11.5]\n"
     ]
    }
   ],
   "source": [
    "#Lists in Python => lists are ordered sequences\n",
    "my_list = ['string',100,23/2]\n",
    "print(my_list)\n",
    "len(my_list) #number of elements in the list\n",
    "my_list[1:]  #indexing, slicing similar to strings\n",
    "\n",
    "#unlike strings, lists are mutable, elements in the list can be updated (changed, added and deleted)\n",
    "my_list[0] = 'new string'\n",
    "print(my_list)"
   ]
  },
  {
   "cell_type": "code",
   "execution_count": null,
   "metadata": {},
   "outputs": [
    {
     "name": "stdout",
     "output_type": "stream",
     "text": [
      "['new string', 100, 11.5, 'one more']\n",
      "one more\n",
      "[4, 1, 8, 3]\n",
      "[1, 3, 4, 8]\n",
      "[8, 4, 3, 1]\n"
     ]
    }
   ],
   "source": [
    "#List properties & methods - Lists are mutable (can change)\n",
    "my_list.append('one more') #appends in place, meaning changes the list permanently, append adds to the end of list\n",
    "print(my_list)\n",
    "\n",
    "x = my_list.pop()  #removes the last element by default and returns that value\n",
    "print(x)\n",
    "\n",
    "num_list = [4,1,8,3]\n",
    "print(num_list)\n",
    "num_list.sort()  #sorting is in place (permanent)\n",
    "print(num_list)\n",
    "\n",
    "num_list.reverse() #reverse is also in place\n",
    "print(num_list)"
   ]
  },
  {
   "cell_type": "code",
   "execution_count": 12,
   "metadata": {},
   "outputs": [
    {
     "data": {
      "text/plain": [
       "2"
      ]
     },
     "execution_count": 12,
     "metadata": {},
     "output_type": "execute_result"
    }
   ],
   "source": [
    "#grab 2 from nested list\n",
    "lst = [1,1,[1,2]]\n",
    "lst[2][1]"
   ]
  },
  {
   "cell_type": "code",
   "execution_count": 13,
   "metadata": {},
   "outputs": [
    {
     "name": "stdout",
     "output_type": "stream",
     "text": [
      "Value2\n",
      "Value2\n",
      "2.99\n",
      "5.8\n",
      "3\n"
     ]
    },
    {
     "data": {
      "text/plain": [
       "100"
      ]
     },
     "execution_count": 13,
     "metadata": {},
     "output_type": "execute_result"
    }
   ],
   "source": [
    "#Dictionaries - unordered mappings for storing objects, using key-value pairs, objects retrieved by key name\n",
    "#in lists objects are retrieved using object location\n",
    "\n",
    "my_dict = {'k1':'Value1','k2':'Value2'}\n",
    "res = my_dict['k2']\n",
    "print(res)\n",
    "\n",
    "result = my_dict.get(\"k2\") #dictionary.get(key)\n",
    "print(result)\n",
    "\n",
    "price_lookup = {'apple':2.99, 'oranges':1.99,'milk':5.80}\n",
    "print(price_lookup.get('apple'))\n",
    "print(price_lookup['milk'])\n",
    "\n",
    "d = {'k1':123, 'k2':[1,2,3], 'k3':{'insidekey':100}}\n",
    "print(d.get('k2')[2])  # to grab 3\n",
    "d.get('k3').get('insidekey') #same as d['k3]['insidekey]"
   ]
  },
  {
   "cell_type": "code",
   "execution_count": null,
   "metadata": {},
   "outputs": [
    {
     "name": "stdout",
     "output_type": "stream",
     "text": [
      "{'k1': 123, 'k2': [1, 2, 3], 'k3': {'insidekey': 100}, 'k4': 'new value'}\n",
      "{'k1': 123, 'k2': [1, 2, 3], 'k3': {'insidekey': 100}}\n"
     ]
    }
   ],
   "source": [
    "#adding new values to a dictionary\n",
    "d['k4']='new value'\n",
    "print(d)\n",
    "\n",
    "#to remove a key-value\n",
    "d.pop('k4')\n",
    "print(d)"
   ]
  },
  {
   "cell_type": "code",
   "execution_count": 18,
   "metadata": {},
   "outputs": [
    {
     "name": "stdout",
     "output_type": "stream",
     "text": [
      "dict_keys(['k1', 'k2', 'k3'])\n",
      "dict_values([123, [1, 2, 3], {'insidekey': 100}])\n",
      "dict_items([('k1', 123), ('k2', [1, 2, 3]), ('k3', {'insidekey': 100})])\n"
     ]
    }
   ],
   "source": [
    "print(d.keys()) #list of keys\n",
    "print(d.values()) #list of values\n",
    "print(d.items()) #list of tuples, with key & value within each tuple"
   ]
  },
  {
   "cell_type": "code",
   "execution_count": 19,
   "metadata": {},
   "outputs": [
    {
     "name": "stdout",
     "output_type": "stream",
     "text": [
      "CD\n"
     ]
    }
   ],
   "source": [
    "#dictionary, list & string\n",
    "dct = {'k1':['ab','bc','cd']}\n",
    "out = dct.get('k1')[2].upper()\n",
    "print(out)"
   ]
  },
  {
   "cell_type": "code",
   "execution_count": 20,
   "metadata": {},
   "outputs": [
    {
     "name": "stdout",
     "output_type": "stream",
     "text": [
      "length of this tuple is 4 & 2nd element is 2\n",
      "Count of element 2 in tuple 2 & index of element 3 is 3\n"
     ]
    }
   ],
   "source": [
    "#Tuples are similar to lists, but are immutable & use parentheses ()\n",
    "t = ('one',2,2,3)\n",
    "print(f'length of this tuple is {len(t)} & 2nd element is {t[1]}')\n",
    "#tuples has only 2 built-in methods .count & .index\n",
    "print(f'Count of element 2 in tuple {t.count(2)} & index of element 3 is {t.index(3)}')\n",
    "\n",
    "#tuples are used in place of lists when data integrity is essential as they are immutable "
   ]
  },
  {
   "cell_type": "code",
   "execution_count": 22,
   "metadata": {},
   "outputs": [
    {
     "name": "stdout",
     "output_type": "stream",
     "text": [
      "{1, 2}\n",
      "{1, 2, 3}\n",
      "{'s', 'M', 'i', 'I', 'p'}\n"
     ]
    }
   ],
   "source": [
    "#sets - unordered collection of unique elements\n",
    "myset = set()\n",
    "myset.add(1)\n",
    "myset.add(2)\n",
    "print(myset)\n",
    "mylist = [1,1,1,2,3,3,3]\n",
    "print(set(mylist))\n",
    "print(set('MississippI'))"
   ]
  },
  {
   "cell_type": "code",
   "execution_count": 32,
   "metadata": {},
   "outputs": [
    {
     "data": {
      "text/plain": [
       "True"
      ]
     },
     "execution_count": 32,
     "metadata": {},
     "output_type": "execute_result"
    }
   ],
   "source": [
    "#Booleans - True or False - used for control flow logic\n",
    "1==1"
   ]
  },
  {
   "cell_type": "code",
   "execution_count": 25,
   "metadata": {},
   "outputs": [
    {
     "name": "stdout",
     "output_type": "stream",
     "text": [
      "My 1,770 sell target was achieved yesterday as the price closed below the (H)4 MA50 as mentioned on my last statement. \n",
      "Now Gold is showcasing its bullish momentum once as as it broke above the (H)4 MA50 following a rebound \n",
      "on the 1,760 Support (made off the October 18th low). \n",
      "(D) is neutral once more (RSI # 53.972, MACD # 2.490, ADX # 28.694) and I am expecting this reversal \n",
      "to target 1,810 and 1,820 in extension as a Higher High. \n",
      "Keep in mind that the Fed Decision is playing a huge part in this and as it is a long-term macro, \n",
      "most likely this trend is here to stay as they plan on a more controlled taper strategy. \n",
      "The US10Y is on a bearish reversal (H&amp;S) which is bullish for Gold and basically the only sell pressure is coming from \n",
      "the (still) strong DXY. I expect the NFP tomorrow to be the catalyst for the USD's trend.\n",
      "\n",
      "\n",
      "The Merevingian\n",
      "2 hours ago\n",
      "\n",
      "It's a SHORT to 1783-1790 spot range, THEN it's a buy at that level for 1865\n",
      "\n",
      "----------------\n",
      "11/15 - George Gold\n",
      "\n",
      "Gold has so far failed to break above the key 1,870 (on XAUUSD) pivot line of 2020 and is technically forming a top \n",
      "which can be the Higher High on the (D) Bullish Megaphone that started after the September 29th low. \n",
      "(H)1 is turning neutral (RSI # 56.083, MACD # 0.380, ADX # 17.799) which is a natural reaction on peak formations \n",
      "and I personally expect (within a weekly horizon) a pull-back towards the (D) MA200 (around 1,800), \n",
      "which should be turned into a Support if this one month bullish move is to be transfered on the long-term as well. \n",
      "Then my target will be 1,910. Note that currently it is the DXY which keeps Gold that high, \n",
      "as the US10Y, though bearish on the long-term, rebounded on its (D)MA200.\n",
      "\n",
      "\n",
      "George Gold\n",
      "2021-11-18 14:42:04\n",
      "\n",
      "Gold has so far failed to close a (D) candle above the 1876 Symmetrical Resistance but technically remains bullish (RSI # 66.354, MACD # 23.900, ADX # 45.046). \n",
      "In order however to extend this bullish trend, a (D) candle needs to be closed above the 1,875 pivot and if it does, \n",
      "the natural targets would be first 1,917 (Resistance 1 from the June 1st High) and if a (D) candle closes above it, \n",
      "then 1,938.50 (0.5 Fibonacci of the two Resistance levels: 1,960 and 1,917). \n",
      "On the other hand, if a (D) candle closes below the 1,843.50 short-term Support, I would expect a technical pull-back to its long-term Support, \n",
      "the 1D MA50 (blue trend-line). \n",
      "Long-term though I remain bullish as within the next days the (D) chart will form a Golden Cross. \n",
      "Fundamentally today's higher that expected Initial Jobless Claims should be bearish on the short-term\n",
      "\n",
      "----------------------\n",
      "\n",
      "The Merevingian - 11/15\n",
      "Ok so take profit on short is 1838 spot. \n",
      "I have limit buys sitting at 1825 spot with stops 1821.75 spot. Take profit 1850. \n",
      "This being the next trade after short. Then next week's candle will take it below 1828 to 1805-1800 level, \n",
      "so re shorting will happen next week\n",
      "\n",
      "Nov 22, 2021 12:14PM ET\n",
      "1793-1797 spot is the sweet spot for buys\n",
      "\n",
      "Nov 22, 2021 11:14AM ET\n",
      "PLACE LIMIT BUY @ 1796 SPOT. STOPS AT 1784 TARGET IS 1920\n",
      "\n",
      "--------------------------------\n",
      "Visa@2022\n",
      "Big Bangg\n",
      "2021-11-19 01:29:49\n",
      "\n",
      "1800-1810 on the way first\n",
      "\n",
      "\n",
      "---------------------------------------youâ€™ve got to learn how to let go and give your trade room to breathe-----------------------\n",
      "Golden Cross:\n",
      "The golden cross occurs when a short-term moving average crosses over a major long-term moving average to the upside and is interpreted by analysts and traders as signaling a definitive upward turn in a market. \n",
      "Some analysts define it as a crossover of the 100-day moving average by the 50-day moving average; others define it as the crossover of the 200-day average by the 50-day average.\n",
      "\n",
      "EMA vs SMA:\n",
      "The primary difference between an EMA and an SMA is the sensitivity each one shows to changes in the data used in its calculation. ... \n",
      "More specifically, the exponential moving average gives a higher weighting to recent prices, while the simple moving average assigns equal weighting to all values.\n",
      "---------------------------------\n",
      "10/14/2022\n",
      "https://www.investing.com/members/contributors/201230545/comments\n",
      " \n",
      "Remember always be ready to cover the losses and trade short/medium-term break-outs of the trend. Set markers on correlating assets that can serve as an early warning. =>(Bond, USD etc.).\n",
      "\"Don't overcommit\", go for safe short-term profits in this environment, one bad trade can always be gained back another time but a liquidated account cannot.\n",
      "\n",
      "Naiive retail investors\n",
      "Criteria for investing is Timing\n",
      "participation is not for the faint heart\n",
      "---------\n",
      "5/23/2024\n",
      "Johnny Sins\n",
      "https://www.investing.com/members/219326005/comments\n",
      "\n",
      "https://www.investing.com/members/230999301/comments\n",
      "\n",
      "\n",
      "Jim Curry - preference is always to buy on drops back to the moving averages.\n",
      "IRA futures limit - 555K 14 to 16K per contract\n",
      "Trade a/c limit - 123K - 7 contract\n",
      "\n",
      "--G3\n",
      "--E3\n",
      "\n",
      "Silicon Valley Speak To Lead club icebreaker contest results: \n",
      "First Place: \tJunnie Lim Mei Eng\n",
      "Second Place: Mark Fleisher\n",
      "Third Place: \tThom Bean\n",
      "\n",
      "\n"
     ]
    }
   ],
   "source": [
    "#files - reading from a file\n",
    "with open('Investing Gold.txt') as invest_file:\n",
    "    contents = invest_file.read()\n",
    "    \n",
    "print(contents)"
   ]
  },
  {
   "cell_type": "code",
   "execution_count": 32,
   "metadata": {},
   "outputs": [
    {
     "data": {
      "text/plain": [
       "'First Line'"
      ]
     },
     "execution_count": 32,
     "metadata": {},
     "output_type": "execute_result"
    }
   ],
   "source": [
    "#writing and overwriting files\n",
    "\n",
    "with open('from python.txt', mode='w') as w_file:  #w creates file or overwrites an existing file\n",
    "    w_file.write('First Line')\n",
    "    \n",
    "with open('from python.txt', mode='r') as r_file:  #r for ready only\n",
    "    contents = r_file.read()\n",
    "    \n",
    "contents"
   ]
  },
  {
   "cell_type": "code",
   "execution_count": 33,
   "metadata": {},
   "outputs": [
    {
     "name": "stdout",
     "output_type": "stream",
     "text": [
      "First Line\n",
      "Second Line\n"
     ]
    }
   ],
   "source": [
    "with open('from python.txt', mode='a') as a_file:  #a for appending \n",
    "    a_file.write('\\nSecond Line')\n",
    "    \n",
    "with open('from python.txt', mode='r') as r_file:\n",
    "    print(r_file.read())\n",
    "    \n"
   ]
  },
  {
   "cell_type": "code",
   "execution_count": 34,
   "metadata": {},
   "outputs": [
    {
     "name": "stdout",
     "output_type": "stream",
     "text": [
      "Hello World\n"
     ]
    }
   ],
   "source": [
    "#basic file method\n",
    "x = open('test.txt','w')\n",
    "x.write('Hello World')\n",
    "x.close()\n",
    "\n",
    "y = open('test.txt', 'r')\n",
    "print(y.read())\n",
    "y.close()"
   ]
  },
  {
   "cell_type": "code",
   "execution_count": 35,
   "metadata": {},
   "outputs": [
    {
     "name": "stdout",
     "output_type": "stream",
     "text": [
      "True\n",
      "False\n"
     ]
    }
   ],
   "source": [
    "#comparison operators (==, !=, >, <, >=, <=) and logical operators (and, or, not)\n",
    "print(1<2 and 2<3)\n",
    "print(not (1==1))"
   ]
  },
  {
   "cell_type": "code",
   "execution_count": 36,
   "metadata": {},
   "outputs": [
    {
     "name": "stdout",
     "output_type": "stream",
     "text": [
      "I do not know much\n"
     ]
    }
   ],
   "source": [
    "#Control flow => if, elif, else\n",
    "loc = 'Game'\n",
    "\n",
    "if loc == 'Auto':\n",
    "    print(\"Cars are cool!\")\n",
    "elif loc == 'Bank':\n",
    "    print(\"Money is cool!\")\n",
    "elif loc == 'Store':\n",
    "    print('Welcome to the store!')\n",
    "else:\n",
    "    print('I do not know much')"
   ]
  },
  {
   "cell_type": "code",
   "execution_count": null,
   "metadata": {},
   "outputs": [
    {
     "name": "stdout",
     "output_type": "stream",
     "text": [
      "s\n",
      "t\n",
      "r\n",
      "i\n",
      "n\n",
      "g\n",
      "1\n",
      "2\n",
      "2\n",
      "a\n",
      "b\n",
      "k1\n",
      "k2\n",
      "v1\n",
      "v2\n",
      "('k1', 'v1')\n",
      "('k2', 'v2')\n",
      "1\n",
      "2\n",
      "2\n",
      "a\n",
      "b\n",
      "a\n",
      "1\n",
      "2\n",
      "b\n"
     ]
    }
   ],
   "source": [
    "# For loop\n",
    "#many objects in python are \"iterable\", we can iterate over every element in the object\n",
    "#use for loops to execute blocks of codes for every iteration\n",
    "\n",
    "for char in 'string':  #string\n",
    "    print(char)\n",
    "    \n",
    "lst=[1,2,2,'a','b'] #list\n",
    "for element in lst:\n",
    "    print(element)\n",
    "    \n",
    "d = {'k1':'v1', 'k2':'v2'} #dictionary\n",
    "for k in d.keys():\n",
    "    print(k)\n",
    "for v in d.values():\n",
    "    print(v)\n",
    "for kv in d.items():\n",
    "    print(kv)\n",
    "    \n",
    "tup = tuple(lst) #tuple\n",
    "for e in tup:\n",
    "    print(e)\n",
    "    \n",
    "st = set(tup) #set\n",
    "for e in st:\n",
    "    print(e)"
   ]
  },
  {
   "cell_type": "code",
   "execution_count": 61,
   "metadata": {},
   "outputs": [
    {
     "name": "stdout",
     "output_type": "stream",
     "text": [
      "odd number 1\n",
      "2\n",
      "odd number 3\n",
      "4\n",
      "odd number 5\n",
      "6\n",
      "odd number 7\n",
      "8\n",
      "odd number 9\n",
      "10\n"
     ]
    }
   ],
   "source": [
    "mylist = [1,2,3,4,5,6,7,8,9,10]\n",
    "for num in mylist:\n",
    "    #check for even numbers in the iterable\n",
    "    if num % 2 == 0 :\n",
    "        print (num)\n",
    "    else:\n",
    "        print(f'odd number {num}')\n",
    "    "
   ]
  },
  {
   "cell_type": "code",
   "execution_count": 68,
   "metadata": {},
   "outputs": [
    {
     "name": "stdout",
     "output_type": "stream",
     "text": [
      "The sum upto index position 0 is 1\n",
      "The sum upto index position 1 is 3\n",
      "The sum upto index position 2 is 6\n",
      "The sum upto index position 3 is 10\n",
      "The sum upto index position 4 is 15\n",
      "The sum upto index position 5 is 21\n",
      "The sum upto index position 6 is 28\n",
      "The sum upto index position 7 is 36\n",
      "The sum upto index position 8 is 45\n",
      "The sum upto index position 9 is 55\n",
      "Final sum of all elements is 55\n"
     ]
    }
   ],
   "source": [
    "# to find the sum of every number in the list\n",
    "list_sum = 0\n",
    "pos = 0  # this can be replaced with built-in enumerate function\n",
    "for num in mylist:\n",
    "    list_sum = list_sum + num\n",
    "    print(f'The sum upto index position {pos} is {list_sum}')\n",
    "    pos += 1\n",
    "print(f'Final sum of all elements is {list_sum}') #final sum"
   ]
  },
  {
   "cell_type": "code",
   "execution_count": 69,
   "metadata": {},
   "outputs": [
    {
     "name": "stdout",
     "output_type": "stream",
     "text": [
      "hello\n",
      "hello\n",
      "hello\n",
      "hello\n",
      "hello\n",
      "hello\n",
      "hello\n",
      "hello\n",
      "hello\n",
      "hello\n"
     ]
    }
   ],
   "source": [
    "#if you are not planning to use any element in the iterable, just use _\n",
    "for _ in mylist:\n",
    "    print('hello')"
   ]
  },
  {
   "cell_type": "code",
   "execution_count": 76,
   "metadata": {},
   "outputs": [
    {
     "name": "stdout",
     "output_type": "stream",
     "text": [
      "(1, 2)\n",
      "(3, 4)\n",
      "(5, 6)\n",
      "(7, 8)\n",
      "1\n",
      "2\n",
      "3\n",
      "4\n",
      "5\n",
      "6\n",
      "7\n",
      "8\n",
      "just process 2 and ignore (1, 3)\n",
      "just process 5 and ignore (4, 6)\n",
      "just process 8 and ignore (7, 9)\n"
     ]
    }
   ],
   "source": [
    "#tuple unpacking, when tuples are items in a list\n",
    "mylst = [(1,2),(3,4),(5,6),(7,8)]\n",
    "len(mylst)\n",
    "\n",
    "for item in mylst:\n",
    "    print(item)\n",
    "    \n",
    "for a,b in mylst: #this is tuple unpakcing\n",
    "    print(a)\n",
    "    print(b)\n",
    "    \n",
    "lst = [(1,2,3),(4,5,6),(7,8,9)]\n",
    "for a,b,c in lst: #not just each element of the list (which is a tuple), we can also assign a variable to each element in the tuple = Tuple unpacking\n",
    "    print (f'just process {b} and ignore {a, c}')     #just process the middle element in the tuple"
   ]
  },
  {
   "cell_type": "code",
   "execution_count": 83,
   "metadata": {},
   "outputs": [
    {
     "name": "stdout",
     "output_type": "stream",
     "text": [
      "dict_items([('k1', 1), ('k2', 2), ('k3', 3)])\n",
      "key is 'k1' & value is 1\n",
      "key is 'k2' & value is 2\n",
      "key is 'k3' & value is 3\n"
     ]
    }
   ],
   "source": [
    "#tuple unpacking with dictionaries, as d.items() function outputs key, value as tuples inside a list\n",
    "d = {'k1':1, 'k2':2, 'k3':3}\n",
    "print(d.items())\n",
    "for k, v in d.items():\n",
    "    print(f'key is \\'{k}\\' & value is {v}')"
   ]
  },
  {
   "cell_type": "code",
   "execution_count": 87,
   "metadata": {},
   "outputs": [
    {
     "name": "stdout",
     "output_type": "stream",
     "text": [
      "Value of x=0 is less than 5\n",
      "Value of x=1 is less than 5\n",
      "Value of x=2 is less than 5\n",
      "Value of x=3 is less than 5\n",
      "Value of x=4 is less than 5\n",
      "Value of x=5 is not less than 5\n"
     ]
    }
   ],
   "source": [
    "#while loops - execute a block of code while some condition remains True\n",
    "x = 0\n",
    "\n",
    "while x < 5:\n",
    "    print(f'Value of x={x} is less than 5')\n",
    "    x += 1\n",
    "else: #optional cluase\n",
    "    print(f'Value of x={x} is not less than 5')"
   ]
  },
  {
   "cell_type": "code",
   "execution_count": 89,
   "metadata": {},
   "outputs": [],
   "source": [
    "#break, continue, pass\n",
    "#pass is used as a place holder, does nothing at all\n",
    "\n",
    "x = [1,2,3]\n",
    "for item in x:\n",
    "    pass  #placeholder to avoid syntax error until logic is built, normally used in building functions"
   ]
  },
  {
   "cell_type": "code",
   "execution_count": 95,
   "metadata": {},
   "outputs": [
    {
     "name": "stdout",
     "output_type": "stream",
     "text": [
      "p\n",
      "r\n",
      "a\n",
      "e\n",
      "e\n",
      "p\n"
     ]
    }
   ],
   "source": [
    "#Continue goes to the top of the loop\n",
    "name = 'pradeep'\n",
    "for l in name:\n",
    "    if l == 'd':\n",
    "        continue # when the condition is met, skips execution of loop code block for that element, but takes it back to the top to continue the loop for other elements\n",
    "    print(l)"
   ]
  },
  {
   "cell_type": "code",
   "execution_count": 97,
   "metadata": {},
   "outputs": [
    {
     "name": "stdout",
     "output_type": "stream",
     "text": [
      "p\n",
      "r\n",
      "a\n"
     ]
    }
   ],
   "source": [
    "#break - breaks out of the current loop\n",
    "name = 'pradeep'\n",
    "for l in name:\n",
    "    if l == 'd':\n",
    "        break # when the condition is met, skips execution of loop code block for that element and also all the elements after it.\n",
    "    print(l)"
   ]
  },
  {
   "cell_type": "code",
   "execution_count": 109,
   "metadata": {},
   "outputs": [
    {
     "name": "stdout",
     "output_type": "stream",
     "text": [
      "0\n",
      "1\n",
      "2\n",
      "3\n",
      "4\n",
      "5\n",
      "6\n",
      "7\n",
      "8\n",
      "9\n",
      "\n",
      "\n",
      "3\n",
      "5\n",
      "7\n",
      "9\n",
      "\n",
      "\n"
     ]
    },
    {
     "data": {
      "text/plain": [
       "[0, 2, 4, 6, 8, 10]"
      ]
     },
     "execution_count": 109,
     "metadata": {},
     "output_type": "execute_result"
    }
   ],
   "source": [
    "#Useful operators\n",
    "\n",
    "#range() function in Python - to output of sequence of numbers\n",
    "for num in range(10): #works same as indexing/slicing, includes starting value (default 0) and doesn't include the ending value\n",
    "    print(num)\n",
    "print('\\n')\n",
    "\n",
    "for num in range(3,10,2): #unless specified default step size is 1\n",
    "    print(num)\n",
    "\n",
    "print('\\n')   \n",
    "#list of even numbers b/w 0 and 10\n",
    "list(range(0,11,2))"
   ]
  },
  {
   "cell_type": "code",
   "execution_count": 112,
   "metadata": {},
   "outputs": [
    {
     "name": "stdout",
     "output_type": "stream",
     "text": [
      "letter p is at index position 0\n",
      "letter r is at index position 1\n",
      "letter a is at index position 2\n",
      "letter d is at index position 3\n",
      "letter e is at index position 4\n",
      "letter e is at index position 5\n",
      "letter p is at index position 6\n"
     ]
    }
   ],
   "source": [
    "#enumerate() function - for every element in a iterable, outputs a list of  (index, value) tuple for each element, when iterable object is passed as input to function\n",
    "name = 'pradeep'\n",
    "for i,l in enumerate(name):  #tuple unpacking, as enumerate() function outputs list of tuples, where each tuple contains (index position of element, element)\n",
    "    print(f'letter {l} is at index position {i}')\n",
    "    "
   ]
  },
  {
   "cell_type": "code",
   "execution_count": 123,
   "metadata": {},
   "outputs": [
    {
     "name": "stdout",
     "output_type": "stream",
     "text": [
      "(1, 'a', 4)\n",
      "(2, 'b', 5)\n",
      "(3, 'c', 6)\n",
      "First letter in tuple =1, second letter=a, third letter=4\n",
      "First letter in tuple =2, second letter=b, third letter=5\n",
      "First letter in tuple =3, second letter=c, third letter=6\n"
     ]
    }
   ],
   "source": [
    "#zip() function - when multiple objects are passed a inputs, it outputs a list of tuples, with each tuple containing elements at same index location\n",
    "l1 = [1,2,3]\n",
    "l2 = ['a','b','c']\n",
    "l3 = [4,5,6,100] #uneven numbers in any of the objects are ignored for zipping\n",
    "\n",
    "for item in zip(l1,l2,l3):\n",
    "    print(item)\n",
    "    \n",
    "for f,s,t in zip(l1,l2,l3): #tuple unpacking\n",
    "    print(f'First letter in tuple ={f}, second letter={s}, third letter={t}')"
   ]
  },
  {
   "cell_type": "code",
   "execution_count": 136,
   "metadata": {},
   "outputs": [
    {
     "name": "stdout",
     "output_type": "stream",
     "text": [
      "True\n",
      "False\n",
      "dict_keys(['k1'])\n",
      "True\n",
      "False\n"
     ]
    }
   ],
   "source": [
    "# in operator - outputs boolean if an elements exists in a string, list or dictionary (key or value)\n",
    "\n",
    "print('x' in 'Texas')\n",
    "print (1 in [10,20,30])\n",
    "\n",
    "d = {'k1':'v1'}\n",
    "print(d.keys())\n",
    "print('k1' in d.keys())  #d.keys() is a list of keys\n",
    "print('v2' in d.values()) #d.values() is a list of values"
   ]
  },
  {
   "cell_type": "code",
   "execution_count": 139,
   "metadata": {},
   "outputs": [
    {
     "name": "stdout",
     "output_type": "stream",
     "text": [
      "10\n",
      "50\n"
     ]
    }
   ],
   "source": [
    "#min, max math functions\n",
    "num = [10,20,30,40,50]\n",
    "print(min(num))\n",
    "print(max(num))"
   ]
  },
  {
   "cell_type": "code",
   "execution_count": null,
   "metadata": {},
   "outputs": [
    {
     "name": "stdout",
     "output_type": "stream",
     "text": [
      "[50, 40, 30, 10, 20]\n"
     ]
    }
   ],
   "source": [
    "#random module contains few functions\n",
    "from random import shuffle\n",
    "lst = [10,20,30,40,50]\n",
    "\n",
    "shuffle(lst)  #shuffles the list items inplace\n",
    "print(lst)\n"
   ]
  },
  {
   "cell_type": "code",
   "execution_count": 157,
   "metadata": {},
   "outputs": [
    {
     "data": {
      "text/plain": [
       "2"
      ]
     },
     "execution_count": 157,
     "metadata": {},
     "output_type": "execute_result"
    }
   ],
   "source": [
    "from random import randint #returns a random integer in the specified range\n",
    "randint(0,2) #can output 0, 1 or 2"
   ]
  },
  {
   "cell_type": "code",
   "execution_count": null,
   "metadata": {},
   "outputs": [],
   "source": []
  },
  {
   "cell_type": "code",
   "execution_count": null,
   "metadata": {},
   "outputs": [],
   "source": []
  },
  {
   "cell_type": "code",
   "execution_count": null,
   "metadata": {},
   "outputs": [],
   "source": []
  }
 ],
 "metadata": {
  "kernelspec": {
   "display_name": "base",
   "language": "python",
   "name": "python3"
  },
  "language_info": {
   "codemirror_mode": {
    "name": "ipython",
    "version": 3
   },
   "file_extension": ".py",
   "mimetype": "text/x-python",
   "name": "python",
   "nbconvert_exporter": "python",
   "pygments_lexer": "ipython3",
   "version": "3.7.6"
  }
 },
 "nbformat": 4,
 "nbformat_minor": 2
}
